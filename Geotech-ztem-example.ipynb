{
 "cells": [
  {
   "cell_type": "markdown",
   "id": "bd78d54d-f503-42f8-863f-67513b28bb73",
   "metadata": {},
   "source": [
    "# 3D forward simulation of ZTEM data"
   ]
  },
  {
   "cell_type": "code",
   "execution_count": 1,
   "id": "2a544f7b-3238-4cf5-870b-cd3afeb19cc1",
   "metadata": {},
   "outputs": [],
   "source": [
    "import numpy as np\n",
    "import time\n",
    "import matplotlib.pyplot as plt\n",
    "from matplotlib.colors import LogNorm, Normalize\n",
    "\n",
    "import discretize\n",
    "from pymatsolver import Pardiso as Solver\n",
    "from SimPEG import maps, data\n",
    "# from SimPEG import maps, utils, data, optimization, maps, objective_function, regularization, inverse_problem, directives, inversion, data_misfit\n",
    "from SimPEG.electromagnetics import natural_source as nsem\n",
    "from SimPEG.utils import plot2Ddata, surface2ind_topo"
   ]
  },
  {
   "cell_type": "markdown",
   "id": "7373449c-9f60-4f3f-96f0-21c1d639c60a",
   "metadata": {},
   "source": [
    "## create a tensor mesh"
   ]
  },
  {
   "cell_type": "code",
   "execution_count": 2,
   "id": "d6040282-cf77-4696-b98e-aa4bee4f26e6",
   "metadata": {},
   "outputs": [
    {
     "data": {
      "text/html": [
       "<table>\n",
       "  <tr>\n",
       "    <td style='font-weight: bold; font-size: 1.2em; text-align: center;' colspan='3'>TensorMesh</td>\n",
       "    <td style='font-size: 1.2em; text-align: center;'colspan='4'>17,457 cells</td>\n",
       "  </tr>\n",
       "  <tr>\n",
       "    <th></th>\n",
       "    <th></th>\n",
       "    <th colspan='2' style='padding: 5px 20px 5px 20px;'>MESH EXTENT</th>\n",
       "    <th colspan='2' style='padding: 5px 20px 5px 20px;'>CELL WIDTH</th>\n",
       "    <th style='padding: 5px 20px 5px 20px;'>FACTOR</th>\n",
       "  </tr>\n",
       "  <tr>\n",
       "    <th style='padding: 5px 20px 5px 20px;'>dir</th>\n",
       "    <th style='padding: 5px 20px 5px 20px;'>nC</th>\n",
       "    <th style='padding: 5px 20px 5px 20px;'>min</th>\n",
       "    <th style='padding: 5px 20px 5px 20px;'>max</th>\n",
       "    <th style='padding: 5px 20px 5px 20px;'>min</th>\n",
       "    <th style='padding: 5px 20px 5px 20px;'>max</th>\n",
       "    <th style='padding: 5px 20px 5px 20px;'>max</th>\n",
       "  </tr>\n",
       "  <tr>\n",
       "    <td style='padding: 5px 20px 5px 20px;'>x</td>\n",
       "    <td style='padding: 5px 20px 5px 20px;'>23</td>\n",
       "    <td style='padding: 5px 20px 5px 20px;'>-2,628.12</td>\n",
       "    <td style='padding: 5px 20px 5px 20px;'>2,628.12</td>\n",
       "    <td style='padding: 5px 20px 5px 20px;'>100.00</td>\n",
       "    <td style='padding: 5px 20px 5px 20px;'>759.38</td>\n",
       "    <td style='padding: 5px 20px 5px 20px;'>1.50</td>\n",
       "  </tr>\n",
       "  <tr>\n",
       "    <td style='padding: 5px 20px 5px 20px;'>y</td>\n",
       "    <td style='padding: 5px 20px 5px 20px;'>23</td>\n",
       "    <td style='padding: 5px 20px 5px 20px;'>-2,628.12</td>\n",
       "    <td style='padding: 5px 20px 5px 20px;'>2,628.12</td>\n",
       "    <td style='padding: 5px 20px 5px 20px;'>100.00</td>\n",
       "    <td style='padding: 5px 20px 5px 20px;'>759.38</td>\n",
       "    <td style='padding: 5px 20px 5px 20px;'>1.50</td>\n",
       "  </tr>\n",
       "  <tr>\n",
       "    <td style='padding: 5px 20px 5px 20px;'>z</td>\n",
       "    <td style='padding: 5px 20px 5px 20px;'>33</td>\n",
       "    <td style='padding: 5px 20px 5px 20px;'>-3,146.64</td>\n",
       "    <td style='padding: 5px 20px 5px 20px;'>2,871.64</td>\n",
       "    <td style='padding: 5px 20px 5px 20px;'>25.00</td>\n",
       "    <td style='padding: 5px 20px 5px 20px;'>1,073.74</td>\n",
       "    <td style='padding: 5px 20px 5px 20px;'>1.60</td>\n",
       "  </tr>\n",
       "</table>\n"
      ],
      "text/plain": [
       "\n",
       "  TensorMesh: 17,457 cells\n",
       "\n",
       "                      MESH EXTENT             CELL WIDTH      FACTOR\n",
       "  dir    nC        min           max         min       max      max\n",
       "  ---   ---  ---------------------------  ------------------  ------\n",
       "   x     23     -2,628.12      2,628.12    100.00    759.38    1.50\n",
       "   y     23     -2,628.12      2,628.12    100.00    759.38    1.50\n",
       "   z     33     -3,146.64      2,871.64     25.00  1,073.74    1.60\n"
      ]
     },
     "execution_count": 2,
     "metadata": {},
     "output_type": "execute_result"
    }
   ],
   "source": [
    "# core mesh \n",
    "csx = 100  # cell size in the x, y directions\n",
    "ncx = 13   # number of cells in the x, y directions\n",
    "csz = 25   # number of cells in the z direction\n",
    "ncz = int(350/csz)  # number of cells in the z direction \n",
    "nca = 3  # number of core cells above z=0 (for modelling topography) \n",
    "\n",
    "npad = 5   # number of padding cells in x, y\n",
    "npadz = 8  # number of padding cells in z\n",
    "\n",
    "# create the tensor mesh\n",
    "mesh = discretize.TensorMesh(\n",
    "    [\n",
    "        [(csx, npad, -1.5), (csx, ncx), (csx, npad, 1.5)],\n",
    "        [(csx, npad, -1.5), (csx, ncx), (csx, npad, 1.5)],\n",
    "        [(csz, npadz, -1.6), (csz, ncz+nca), (csz, npadz, 1.6)],\n",
    "    ], origin=\"CC0\"\n",
    ")\n",
    "mesh.origin = mesh.origin + np.r_[0, 0, -mesh.h[2][:npadz+ncz].sum()]\n",
    "\n",
    "mesh"
   ]
  },
  {
   "cell_type": "code",
   "execution_count": 3,
   "id": "9720ad3f-abca-4529-aee0-e4d6c8bdfab8",
   "metadata": {},
   "outputs": [
    {
     "name": "stdout",
     "output_type": "stream",
     "text": [
      "skin depths\n",
      "[918.34815475 749.82812845 530.20855435 374.91406423 265.10427718\n",
      " 187.45703211]\n"
     ]
    }
   ],
   "source": [
    "# Setup the model\n",
    "\n",
    "sig_back = 1e-2\n",
    "sig_block = 1\n",
    "sig_air = 1e-8\n",
    "\n",
    "frequencies = np.r_[30, 45, 90, 180, 360, 720]\n",
    "\n",
    "print(\"skin depths\")\n",
    "print(503/np.sqrt(sig_back * frequencies))"
   ]
  },
  {
   "cell_type": "code",
   "execution_count": 4,
   "id": "fd0e954b-c1cb-4763-8037-312d94c73b4f",
   "metadata": {},
   "outputs": [],
   "source": [
    "def topography(x, y, length_scale=500, height=150): \n",
    "    return -height*np.sin(x/length_scale) * np.exp(-(x/length_scale)**2) * np.exp(-(y/length_scale)**2)"
   ]
  },
  {
   "cell_type": "code",
   "execution_count": 5,
   "id": "b2032581-085a-4764-bf42-42c6ff9d0b8c",
   "metadata": {},
   "outputs": [],
   "source": [
    "models = {}\n",
    "\n",
    "block_x = np.r_[-150, 150]\n",
    "block_y = np.r_[-150, 150]\n",
    "block_z = np.r_[-200, -350]\n",
    "\n",
    "block_inds = (\n",
    "    (mesh.cell_centers[:, 0] <= block_x.max()) & (mesh.cell_centers[:, 0] >= block_x.min()) &\n",
    "    (mesh.cell_centers[:, 1] <= block_y.max()) & (mesh.cell_centers[:, 1] >= block_y.min()) &\n",
    "    (mesh.cell_centers[:, 2] <= block_z.max()) & (mesh.cell_centers[:, 2] >= block_z.min()) \n",
    ")\n",
    "    \n",
    "halfspace = sig_air * np.ones(mesh.n_cells)\n",
    "halfspace[mesh.cell_centers[:, 2] < 0] = sig_back\n",
    "\n",
    "block_in_halfspace = halfspace.copy()\n",
    "block_in_halfspace[block_inds] = sig_block\n",
    "models[\"block\"] = block_in_halfspace\n",
    "\n",
    "topo_model = sig_air * np.ones(mesh.n_cells)\n",
    "topo = topography(mesh.cell_centers[:, 0], mesh.cell_centers[:,1])\n",
    "topo_model[mesh.cell_centers[:, 2] <= topo] = sig_back\n",
    "models[\"topo\"] = topo_model\n",
    "\n",
    "topo_block = topo_model.copy()\n",
    "topo_block[block_inds] = sig_block\n",
    "models[\"topo_block\"] = topo_block"
   ]
  },
  {
   "cell_type": "code",
   "execution_count": 6,
   "id": "ca0c2a42-0ee1-4d81-8650-e59523e7e963",
   "metadata": {},
   "outputs": [
    {
     "data": {
      "image/png": "[encoded data removed]",
      "text/plain": [
       "<Figure size 1200x300 with 6 Axes>"
      ]
     },
     "metadata": {},
     "output_type": "display_data"
    }
   ],
   "source": [
    "fig, ax = plt.subplots(1, 3, figsize=(12, 3))\n",
    "\n",
    "xlim = 700*np.r_[-1, 1]\n",
    "ylim = np.r_[-800, 150]\n",
    "\n",
    "for i, key in enumerate(models.keys()):\n",
    "    out = mesh.plot_slice(\n",
    "        np.log10(models[key]), grid=True, normal=\"Y\", ax=ax[i], \n",
    "        pcolor_opts={\"vmin\":np.log10(sig_air), \"vmax\":np.log10(sig_block)},\n",
    "        grid_opts={\"color\":\"k\", \"lw\":0.5},\n",
    "    )\n",
    "    cb = plt.colorbar(out[0], orientation=\"horizontal\")\n",
    "    ax[i].set_title(key)\n",
    "\n",
    "    ax[i].set_xlim(xlim)\n",
    "    ax[i].set_ylim(ylim)\n",
    "    ax[i].set_aspect(1)\n",
    "\n",
    "# ax.plot(mesh.cell_centers_x, topography(mesh.cell_centers_x, np.zeros_like(mesh.cell_centers_x)))"
   ]
  },
  {
   "cell_type": "markdown",
   "id": "a8c1c4e2-ef32-40f9-9388-1f34d34a1eb4",
   "metadata": {},
   "source": [
    "## create the SimPEG survey"
   ]
  },
  {
   "cell_type": "code",
   "execution_count": 11,
   "id": "bb7a1d7a-86e2-44d3-9998-9c67dcbb6f19",
   "metadata": {},
   "outputs": [],
   "source": [
    "# Setup the the survey object\n",
    "# Receiver locations\n",
    "rx_x = np.arange(-600, 601, 100)\n",
    "rx_z = 90\n",
    "rx_loc = np.vstack([discretize.utils.mkvc(x) for x in np.meshgrid(rx_x, np.r_[0], np.r_[rx_z])]).T\n",
    "\n",
    "# Make a receiver list\n",
    "rx_list = []\n",
    "for rx_orientation in [\"zx\", \"zy\"]:\n",
    "\n",
    "    # specify that we are using tipper data \n",
    "    rx_real = nsem.Rx.Point3DTipper(rx_loc, rx_orientation, \"real\")\n",
    "    rx_imag = nsem.Rx.Point3DTipper(rx_loc, rx_orientation, \"imag\")\n",
    "\n",
    "    # append to the receiver list\n",
    "    rx_list.append(rx_real)\n",
    "    rx_list.append(rx_imag)\n",
    "\n",
    "# Source list\n",
    "source_list = [\n",
    "    nsem.sources.Planewave_xy_1Dprimary(rx_list, freq, sigma_primary=halfspace) for freq in frequencies\n",
    "]\n",
    "# Survey MT\n",
    "survey = nsem.Survey(source_list)\n",
    "\n",
    "# Setup the problem object\n",
    "sim = nsem.Simulation3DPrimarySecondary(\n",
    "    mesh, survey=survey, solver=Solver, sigmaMap=maps.IdentityMap(mesh), sigmaPrimary=halfspace\n",
    ")\n",
    "\n"
   ]
  },
  {
   "cell_type": "markdown",
   "id": "f440455d-c181-4fc4-8c74-3633193e5591",
   "metadata": {},
   "source": [
    "### plot topography and survey line"
   ]
  },
  {
   "cell_type": "code",
   "execution_count": 12,
   "id": "c737d716-f87e-4ebd-80e4-47f9e191d400",
   "metadata": {},
   "outputs": [
    {
     "data": {
      "image/png": "[encoded data removed]",
      "text/plain": [
       "<Figure size 640x480 with 2 Axes>"
      ]
     },
     "metadata": {},
     "output_type": "display_data"
    }
   ],
   "source": [
    "fig, ax = plt.subplots(1, 1)\n",
    "out = mesh.plot_slice(topo, \"CC\", pcolor_opts={\"cmap\":\"coolwarm\"}, ax=ax)\n",
    "\n",
    "lims = 1000\n",
    "ax.set_xlim(lims*np.r_[-1, 1])\n",
    "ax.set_ylim(lims*np.r_[-1, 1])\n",
    "ax.plot(rx_x, np.zeros_like(rx_x), \"ko\")\n",
    "\n",
    "ax.plot(\n",
    "    np.r_[block_x.min(), block_x.min(), block_x.max(), block_x.max(), block_x.min()],\n",
    "    np.r_[block_y.min(), block_y.max(), block_y.max(), block_y.min(), block_y.min()],\n",
    "    \"--k\"\n",
    ")\n",
    "ax.set_title(\"topography\")\n",
    "cb=plt.colorbar(out[0], ax=ax)\n",
    "cb.set_label(\"elevation (m)\")"
   ]
  },
  {
   "cell_type": "markdown",
   "id": "dd74815a-321e-4553-8ca8-45b97e727b21",
   "metadata": {},
   "source": [
    "## run the forward simulation "
   ]
  },
  {
   "cell_type": "code",
   "execution_count": 13,
   "id": "8f7c674a-4063-4b78-994a-00c31353cda2",
   "metadata": {},
   "outputs": [],
   "source": [
    "fields = {}\n",
    "dobs = {}"
   ]
  },
  {
   "cell_type": "code",
   "execution_count": 16,
   "id": "5ac5481b-fba3-4661-9e71-e9a6e9cfd92a",
   "metadata": {},
   "outputs": [
    {
     "data": {
      "text/plain": [
       "<SimPEG.electromagnetics.frequency_domain.fields.Fields3DElectricField at 0x164e719c0>"
      ]
     },
     "execution_count": 16,
     "metadata": {},
     "output_type": "execute_result"
    }
   ],
   "source": []
  },
  {
   "cell_type": "code",
   "execution_count": 17,
   "id": "4f8f743e-6f35-4c95-b675-dee6b163e26a",
   "metadata": {},
   "outputs": [
    {
     "name": "stdout",
     "output_type": "stream",
     "text": [
      "starting block\n"
     ]
    },
    {
     "ename": "KeyError",
     "evalue": "'Source does not have a _uid: 0'",
     "output_type": "error",
     "traceback": [
      "\u001b[0;31m---------------------------------------------------------------------------\u001b[0m",
      "\u001b[0;31mKeyError\u001b[0m                                  Traceback (most recent call last)",
      "Cell \u001b[0;32mIn[17], line 5\u001b[0m\n\u001b[1;32m      3\u001b[0m \u001b[38;5;28mprint\u001b[39m(\u001b[38;5;124mf\u001b[39m\u001b[38;5;124m\"\u001b[39m\u001b[38;5;124mstarting \u001b[39m\u001b[38;5;132;01m{\u001b[39;00mkey\u001b[38;5;132;01m}\u001b[39;00m\u001b[38;5;124m\"\u001b[39m)\n\u001b[1;32m      4\u001b[0m t \u001b[38;5;241m=\u001b[39m time\u001b[38;5;241m.\u001b[39mtime()\n\u001b[0;32m----> 5\u001b[0m fields[key] \u001b[38;5;241m=\u001b[39m \u001b[43msim\u001b[49m\u001b[38;5;241;43m.\u001b[39;49m\u001b[43mfields\u001b[49m\u001b[43m(\u001b[49m\u001b[43msig\u001b[49m\u001b[43m)\u001b[49m\u001b[43m[\u001b[49m\u001b[38;5;241;43m0\u001b[39;49m\u001b[43m]\u001b[49m\n\u001b[1;32m      6\u001b[0m dobs[key] \u001b[38;5;241m=\u001b[39m sim\u001b[38;5;241m.\u001b[39mdpred(sig, f\u001b[38;5;241m=\u001b[39mfields[key])\n\u001b[1;32m      7\u001b[0m \u001b[38;5;28mprint\u001b[39m(\u001b[38;5;124mf\u001b[39m\u001b[38;5;124m\"\u001b[39m\u001b[38;5;124mdone \u001b[39m\u001b[38;5;132;01m{\u001b[39;00mkey\u001b[38;5;132;01m}\u001b[39;00m\u001b[38;5;124m... elapsed time: \u001b[39m\u001b[38;5;132;01m{\u001b[39;00mtime\u001b[38;5;241m.\u001b[39mtime()\u001b[38;5;241m-\u001b[39mt\u001b[38;5;132;01m:\u001b[39;00m\u001b[38;5;124m1.1e\u001b[39m\u001b[38;5;132;01m}\u001b[39;00m\u001b[38;5;124ms \u001b[39m\u001b[38;5;130;01m\\n\u001b[39;00m\u001b[38;5;124m\"\u001b[39m)\n",
      "File \u001b[0;32m~/git/simpeg/simpeg/SimPEG/fields.py:176\u001b[0m, in \u001b[0;36mFields.__getitem__\u001b[0;34m(self, key)\u001b[0m\n\u001b[1;32m    175\u001b[0m \u001b[38;5;28;01mdef\u001b[39;00m \u001b[38;5;21m__getitem__\u001b[39m(\u001b[38;5;28mself\u001b[39m, key):\n\u001b[0;32m--> 176\u001b[0m     ind, name, src_list \u001b[38;5;241m=\u001b[39m \u001b[38;5;28;43mself\u001b[39;49m\u001b[38;5;241;43m.\u001b[39;49m\u001b[43m_index_name_srclist_from_key\u001b[49m\u001b[43m(\u001b[49m\u001b[43mkey\u001b[49m\u001b[43m,\u001b[49m\u001b[43m \u001b[49m\u001b[38;5;124;43m\"\u001b[39;49m\u001b[38;5;124;43mget\u001b[39;49m\u001b[38;5;124;43m\"\u001b[39;49m\u001b[43m)\u001b[49m\n\u001b[1;32m    177\u001b[0m     \u001b[38;5;28;01mif\u001b[39;00m name \u001b[38;5;129;01mis\u001b[39;00m \u001b[38;5;28;01mNone\u001b[39;00m:\n\u001b[1;32m    178\u001b[0m         out \u001b[38;5;241m=\u001b[39m {}\n",
      "File \u001b[0;32m~/git/simpeg/simpeg/SimPEG/fields.py:154\u001b[0m, in \u001b[0;36mFields._index_name_srclist_from_key\u001b[0;34m(self, key, accessType)\u001b[0m\n\u001b[1;32m    152\u001b[0m srcTestList, name \u001b[38;5;241m=\u001b[39m key\n\u001b[1;32m    153\u001b[0m name \u001b[38;5;241m=\u001b[39m \u001b[38;5;28mself\u001b[39m\u001b[38;5;241m.\u001b[39m_nameIndex(name, accessType)\n\u001b[0;32m--> 154\u001b[0m ind \u001b[38;5;241m=\u001b[39m \u001b[38;5;28;43mself\u001b[39;49m\u001b[38;5;241;43m.\u001b[39;49m\u001b[43m_srcIndex\u001b[49m\u001b[43m(\u001b[49m\u001b[43msrcTestList\u001b[49m\u001b[43m)\u001b[49m\n\u001b[1;32m    155\u001b[0m \u001b[38;5;28;01mif\u001b[39;00m \u001b[38;5;28misinstance\u001b[39m(srcTestList, \u001b[38;5;28mslice\u001b[39m):\n\u001b[1;32m    156\u001b[0m     srcTestList \u001b[38;5;241m=\u001b[39m \u001b[38;5;28mself\u001b[39m\u001b[38;5;241m.\u001b[39msurvey\u001b[38;5;241m.\u001b[39msource_list[srcTestList]\n",
      "File \u001b[0;32m~/git/simpeg/simpeg/SimPEG/fields.py:116\u001b[0m, in \u001b[0;36mFields._srcIndex\u001b[0;34m(self, srcTestList)\u001b[0m\n\u001b[1;32m    114\u001b[0m     ind \u001b[38;5;241m=\u001b[39m srcTestList\n\u001b[1;32m    115\u001b[0m \u001b[38;5;28;01melse\u001b[39;00m:\n\u001b[0;32m--> 116\u001b[0m     ind \u001b[38;5;241m=\u001b[39m \u001b[38;5;28;43mself\u001b[39;49m\u001b[38;5;241;43m.\u001b[39;49m\u001b[43msurvey\u001b[49m\u001b[38;5;241;43m.\u001b[39;49m\u001b[43mgetSourceIndex\u001b[49m\u001b[43m(\u001b[49m\u001b[43msrcTestList\u001b[49m\u001b[43m)\u001b[49m\n\u001b[1;32m    117\u001b[0m \u001b[38;5;28;01mreturn\u001b[39;00m ind\n",
      "File \u001b[0;32m~/git/simpeg/simpeg/SimPEG/survey.py:267\u001b[0m, in \u001b[0;36mBaseSurvey.getSourceIndex\u001b[0;34m(self, sources)\u001b[0m\n\u001b[1;32m    265\u001b[0m \u001b[38;5;28;01mfor\u001b[39;00m src \u001b[38;5;129;01min\u001b[39;00m sources:\n\u001b[1;32m    266\u001b[0m     \u001b[38;5;28;01mif\u001b[39;00m \u001b[38;5;28mgetattr\u001b[39m(src, \u001b[38;5;124m\"\u001b[39m\u001b[38;5;124m_uid\u001b[39m\u001b[38;5;124m\"\u001b[39m, \u001b[38;5;28;01mNone\u001b[39;00m) \u001b[38;5;129;01mis\u001b[39;00m \u001b[38;5;28;01mNone\u001b[39;00m:\n\u001b[0;32m--> 267\u001b[0m         \u001b[38;5;28;01mraise\u001b[39;00m \u001b[38;5;167;01mKeyError\u001b[39;00m(\u001b[38;5;124m\"\u001b[39m\u001b[38;5;124mSource does not have a _uid: \u001b[39m\u001b[38;5;132;01m{0!s}\u001b[39;00m\u001b[38;5;124m\"\u001b[39m\u001b[38;5;241m.\u001b[39mformat(\u001b[38;5;28mstr\u001b[39m(src)))\n\u001b[1;32m    268\u001b[0m     ind \u001b[38;5;241m=\u001b[39m \u001b[38;5;28mself\u001b[39m\u001b[38;5;241m.\u001b[39m_sourceOrder\u001b[38;5;241m.\u001b[39mget(src\u001b[38;5;241m.\u001b[39m_uid, \u001b[38;5;28;01mNone\u001b[39;00m)\n\u001b[1;32m    269\u001b[0m     \u001b[38;5;28;01mif\u001b[39;00m ind \u001b[38;5;129;01mis\u001b[39;00m \u001b[38;5;28;01mNone\u001b[39;00m:\n",
      "\u001b[0;31mKeyError\u001b[0m: 'Source does not have a _uid: 0'"
     ]
    }
   ],
   "source": [
    "for key, sig in models.items():\n",
    "    if key not in fields.keys(): \n",
    "        print(f\"starting {key}\")\n",
    "        t = time.time()\n",
    "        fields[key] = sim.fields(sig)[0]\n",
    "        dobs[key] = sim.dpred(sig, f=fields[key])\n",
    "        print(f\"done {key}... elapsed time: {time.time()-t:1.1e}s \\n\")"
   ]
  },
  {
   "cell_type": "code",
   "execution_count": null,
   "id": "26b12888-01f3-4ebf-92aa-f394eb5a27c2",
   "metadata": {},
   "outputs": [],
   "source": [
    "### put data into a data object"
   ]
  },
  {
   "cell_type": "code",
   "execution_count": null,
   "id": "115131c4-7b92-4e2c-8b35-4a6153680071",
   "metadata": {},
   "outputs": [],
   "source": [
    "data_dict = {}\n",
    "for key, d in dobs.items():\n",
    "    data_dict[key] = data.Data(dobs=d.compute(), survey=survey)"
   ]
  },
  {
   "cell_type": "code",
   "execution_count": null,
   "id": "28fc4ab1-00f9-4538-83ee-5a7fd84ec1d8",
   "metadata": {},
   "outputs": [],
   "source": [
    "fig, ax = plt.subplots(3, 1, height_ratios=[1, 1, 2], figsize=(6, 8))\n",
    "\n",
    "xlim = 620*np.r_[-1, 1]\n",
    "ylim= np.r_[-600, 120]\n",
    "key = \"topo_block\"\n",
    "src_ind = 4\n",
    "\n",
    "plotme = \"model\"\n",
    "\n",
    "for j, src in enumerate(source_list[::2]):\n",
    "    for i, rx in enumerate(rx_list[:2]):\n",
    "        ax[i].plot(rx_x, data_dict[key][src, rx], \"-o\", color=f\"C{j}\", label=f\"{src.frequency:1.0f} Hz\")\n",
    "        ax[i].set_title(f\"T{rx.orientation}, {rx.component}\")\n",
    "        ax[i].set_ylabel(f\"T{rx.orientation}\")\n",
    "\n",
    "for a in ax[:2]:\n",
    "    a.grid(\"both\", alpha=0.7)  \n",
    "    a.set_xticklabels(\"\")\n",
    "    a.set_xlim(xlim)\n",
    "ax[0].legend()\n",
    "\n",
    "if plotme==\"model\":\n",
    "    out = mesh.plot_slice(models[key], normal=\"Y\", ax=ax[2], pcolor_opts={\"norm\":LogNorm(vmin=1e-6, vmax=10), \"cmap\":\"Spectral_r\"})\n",
    "elif plotme==\"b\":\n",
    "    out = mesh.plot_slice(\n",
    "        fields[key][srcList[src_ind], plotme][:, 0].real, \"F\", view=\"vec\", normal=\"Y\", ax=ax[2],\n",
    "        range_x=xlim, range_y=ylim\n",
    "    )\n",
    "elif plotme==\"j\":\n",
    "    out = mesh.plot_slice(\n",
    "        fields[key][srcList[src_ind], plotme][:, 0].imag, \"E\", view=\"vec\", normal=\"Y\", ax=ax[2],\n",
    "        range_x=xlim, range_y=ylim\n",
    "    )\n",
    "    # cb = plt.colorbar(out[0], shrink=0.4)\n",
    "# cb.set_label(\"conductivity (S/m)\")\n",
    "\n",
    "\n",
    "ax[2].set_xlim(xlim)\n",
    "ax[2].set_ylim(ylim)\n",
    "ax[2].set_aspect(1)\n",
    "ax[2].set_title(\"\")\n",
    "ax[2].plot(rx_x, np.ones_like(rx_x)*rx_z, \"C9s\")\n",
    "\n",
    "ax[2].set_xlabel(\"x (m)\")\n"
   ]
  },
  {
   "cell_type": "code",
   "execution_count": null,
   "id": "b517d256-2da8-4c54-89ac-a71da97bde5a",
   "metadata": {},
   "outputs": [],
   "source": [
    "frequencies[4]"
   ]
  },
  {
   "cell_type": "code",
   "execution_count": null,
   "id": "a50fa837-cab5-44e8-a44f-76524e549008",
   "metadata": {},
   "outputs": [],
   "source": [
    "fig, ax = plt.subplots(1, 1) \n",
    "\n",
    "key = \"topo_block\"\n",
    "src_ind = 4\n",
    "\n",
    "out = mesh.plot_slice(\n",
    "    fields[key][srcList[src_ind], \"j\"][:, 0].imag, \"E\", view=\"vec\", normal=\"Y\", ax=ax,\n",
    "    range_x=xlim, range_y=ylim, pcolor_opts={\"norm\": Normalize(vmax=8e-4)},\n",
    "    stream_threshold=1e-5\n",
    ")\n",
    "plt.colorbar(out[0], ax=ax, shrink=0.5)\n",
    "ax.set_title(f\"J imag, {frequencies[src_ind]} Hz, XZ-slice\")\n",
    "ax.set_aspect(1)"
   ]
  },
  {
   "cell_type": "code",
   "execution_count": null,
   "id": "cddc4711-bf03-4a23-94a6-1f8a70579415",
   "metadata": {},
   "outputs": [],
   "source": [
    "fig, ax = plt.subplots(1, 1) \n",
    "\n",
    "key = \"topo_block\"\n",
    "src_ind = 4\n",
    "subtract = \"halfspace\" \n",
    "\n",
    "plotme = fields[key][srcList[src_ind], \"b\"][:, 0].real\n",
    "if subtract is not None:\n",
    "    plotme = plotme - fields[subtract][srcList[src_ind], \"b\"][:, 0].real\n",
    "\n",
    "out = mesh.plot_slice(\n",
    "    plotme, \"F\", view=\"vec\", normal=\"X\", ax=ax,\n",
    "    range_x=xlim, range_y=ylim, pcolor_opts={\"norm\": Normalize(vmin=0, vmax=2.7e-8)}, #LogNorm(vmin=3e-11, vmax=1e-7)},\n",
    "    stream_threshold=1e-11\n",
    ")\n",
    "plt.colorbar(out[0], ax=ax, shrink=0.5, pad=0.1)\n",
    "ax.set_title(f\"Anomalous B real, {frequencies[src_ind]} Hz, YZ slice\")\n",
    "ax.set_aspect(1)"
   ]
  },
  {
   "cell_type": "code",
   "execution_count": null,
   "id": "6182f630-74f9-4913-9632-94b72efddd0e",
   "metadata": {},
   "outputs": [],
   "source": []
  }
 ],
 "metadata": {
  "kernelspec": {
   "display_name": "Python 3 (ipykernel)",
   "language": "python",
   "name": "python3"
  },
  "language_info": {
   "codemirror_mode": {
    "name": "ipython",
    "version": 3
   },
   "file_extension": ".py",
   "mimetype": "text/x-python",
   "name": "python",
   "nbconvert_exporter": "python",
   "pygments_lexer": "ipython3",
   "version": "3.10.8"
  }
 },
 "nbformat": 4,
 "nbformat_minor": 5
}
